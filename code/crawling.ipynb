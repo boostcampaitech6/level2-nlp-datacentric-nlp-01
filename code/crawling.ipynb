{
 "cells": [
  {
   "cell_type": "code",
   "execution_count": 1,
   "metadata": {},
   "outputs": [],
   "source": [
    "import requests\n",
    "from bs4 import BeautifulSoup\n",
    "from tqdm.notebook import tqdm\n",
    "import re\n",
    "import pandas as pd"
   ]
  },
  {
   "cell_type": "code",
   "execution_count": 2,
   "metadata": {},
   "outputs": [],
   "source": [
    "def ex_tag(sid, page):\n",
    "    ### 뉴스 분야(sid)와 페이지(page)를 입력하면 그에 대한 링크들을 리스트로 추출하는 함수 ###\n",
    "    \n",
    "    ## 1.\n",
    "    url = f\"https://news.naver.com/main/main.naver?mode=LSD&mid=shm&sid1={sid}\"\\\n",
    "    \"#&date=%2000:00:00&page={page}\"\n",
    "    html = requests.get(url, headers={\"User-Agent\": \"Mozilla/5.0\"\\\n",
    "    \"(Windows NT 10.0; Win64; x64) AppleWebKit/537.36 (KHTML, like Gecko) \"\\\n",
    "    \"Chrome/110.0.0.0 Safari/537.36\"})\n",
    "    soup = BeautifulSoup(html.text, \"lxml\")\n",
    "    a_tag = soup.find_all(\"a\")\n",
    "    \n",
    "    ## 2.\n",
    "    tag_lst = []\n",
    "    for a in a_tag:\n",
    "        if \"href\" in a.attrs:  # href가 있는것만 고르는 것\n",
    "            if (f\"sid={sid}\" in a[\"href\"]) and (\"article\" in a[\"href\"]):\n",
    "                tag_lst.append(a[\"href\"])\n",
    "                \n",
    "    return tag_lst"
   ]
  },
  {
   "cell_type": "code",
   "execution_count": 3,
   "metadata": {},
   "outputs": [],
   "source": [
    "def re_tag(sid):\n",
    "    ### 특정 분야의 100페이지까지의 뉴스의 링크를 수집하여 중복 제거한 리스트로 변환하는 함수 ###\n",
    "    re_lst = []\n",
    "    for i in tqdm(range(100)):\n",
    "        lst = ex_tag(sid, i+1)\n",
    "        re_lst.extend(lst)\n",
    "\n",
    "    # 중복 제거\n",
    "    re_set = set(re_lst)\n",
    "    re_lst = list(re_set)\n",
    "    \n",
    "    return re_lst"
   ]
  },
  {
   "cell_type": "code",
   "execution_count": 4,
   "metadata": {},
   "outputs": [
    {
     "data": {
      "application/vnd.jupyter.widget-view+json": {
       "model_id": "e9a275936bfd42e18823c9c19cf0e7ba",
       "version_major": 2,
       "version_minor": 0
      },
      "text/plain": [
       "  0%|          | 0/100 [00:00<?, ?it/s]"
      ]
     },
     "metadata": {},
     "output_type": "display_data"
    },
    {
     "data": {
      "application/vnd.jupyter.widget-view+json": {
       "model_id": "d501b71f09d04588a30cc359a4a5e696",
       "version_major": 2,
       "version_minor": 0
      },
      "text/plain": [
       "  0%|          | 0/100 [00:00<?, ?it/s]"
      ]
     },
     "metadata": {},
     "output_type": "display_data"
    },
    {
     "data": {
      "application/vnd.jupyter.widget-view+json": {
       "model_id": "152f1e2a85314d99aa636d89a3a222c8",
       "version_major": 2,
       "version_minor": 0
      },
      "text/plain": [
       "  0%|          | 0/100 [00:00<?, ?it/s]"
      ]
     },
     "metadata": {},
     "output_type": "display_data"
    },
    {
     "data": {
      "application/vnd.jupyter.widget-view+json": {
       "model_id": "55d57a59c6ad457390486f43e74d7f28",
       "version_major": 2,
       "version_minor": 0
      },
      "text/plain": [
       "  0%|          | 0/100 [00:00<?, ?it/s]"
      ]
     },
     "metadata": {},
     "output_type": "display_data"
    },
    {
     "data": {
      "application/vnd.jupyter.widget-view+json": {
       "model_id": "e7058d1ecb764a93949a441e83609948",
       "version_major": 2,
       "version_minor": 0
      },
      "text/plain": [
       "  0%|          | 0/100 [00:00<?, ?it/s]"
      ]
     },
     "metadata": {},
     "output_type": "display_data"
    },
    {
     "data": {
      "application/vnd.jupyter.widget-view+json": {
       "model_id": "04e068f4ab5349a8992f03029470f94c",
       "version_major": 2,
       "version_minor": 0
      },
      "text/plain": [
       "  0%|          | 0/100 [00:00<?, ?it/s]"
      ]
     },
     "metadata": {},
     "output_type": "display_data"
    },
    {
     "data": {
      "application/vnd.jupyter.widget-view+json": {
       "model_id": "b159f6e3057246dfa9fa004f53572faa",
       "version_major": 2,
       "version_minor": 0
      },
      "text/plain": [
       "  0%|          | 0/100 [00:00<?, ?it/s]"
      ]
     },
     "metadata": {},
     "output_type": "display_data"
    }
   ],
   "source": [
    "all_hrefs = {}\n",
    "sids = [i for i in [104, 101, 102, 103, 105, 107, 100]]  # 분야 리스트\n",
    "\n",
    "# 각 분야별로 링크 수집해서 딕셔너리에 저장\n",
    "for sid in sids:\n",
    "    sid_data = re_tag(sid)\n",
    "    all_hrefs[sid] = sid_data"
   ]
  },
  {
   "cell_type": "code",
   "execution_count": 33,
   "metadata": {},
   "outputs": [],
   "source": [
    "def art_crawl(all_hrefs, sid, index):\n",
    "    \"\"\"\n",
    "    sid와 링크 인덱스를 넣으면 기사제목, 날짜, 본문을 크롤링하여 딕셔너리를 출력하는 함수 \n",
    "    \n",
    "    Args: \n",
    "        all_hrefs(dict): 각 분야별로 100페이지까지 링크를 수집한 딕셔너리 (key: 분야(sid), value: 링크)\n",
    "        sid(int): 분야 [100: 정치, 101: 경제, 102: 사회, 103: 생활/문화, 104: 세계, 105: IT/과학]\n",
    "        index(int): 링크의 인덱스\n",
    "    \n",
    "    Returns:\n",
    "        dict: 기사제목, 날짜, 본문이 크롤링된 딕셔너리\n",
    "    \n",
    "    \"\"\"\n",
    "    art_dic = {}\n",
    "    \n",
    "    ## 1.\n",
    "    title_selector = \"#title_area > span\"\n",
    "    date_selector = \"#ct > div.media_end_head.go_trans > div.media_end_head_info.nv_notrans\"\\\n",
    "    \"> div.media_end_head_info_datestamp > div:nth-child(1) > span\"\n",
    "    main_selector = \"#dic_area\"\n",
    "    \n",
    "    url = all_hrefs[sid][index]\n",
    "    html = requests.get(url, headers = {\"User-Agent\": \"Mozilla/5.0 \"\\\n",
    "    \"(Windows NT 10.0; Win64; x64) AppleWebKit/537.36 (KHTML, like Gecko)\"\\\n",
    "    \"Chrome/110.0.0.0 Safari/537.36\"})\n",
    "    soup = BeautifulSoup(html.text, \"lxml\")\n",
    "    \n",
    "    ## 2.\n",
    "    # 제목 수집\n",
    "    title = soup.select(title_selector)\n",
    "    title_lst = [t.text for t in title]\n",
    "    title_str = \"\".join(title_lst)\n",
    "    \n",
    "    # 날짜 수집\n",
    "    date = soup.select(date_selector)\n",
    "    date_lst = [d.text for d in date]\n",
    "    date_str = \"\".join(date_lst)\n",
    "    \n",
    "    # 본문 수집\n",
    "    main = soup.select(main_selector)\n",
    "    main_lst = []\n",
    "    for m in main:\n",
    "        m_text = m.text\n",
    "        m_text = m_text.strip()\n",
    "        main_lst.append(m_text)\n",
    "    main_str = \"\".join(main_lst)\n",
    "    \n",
    "    ## 특수문자\n",
    "    #pattern = r'[^a-zA-Z가-힣0-9]'\n",
    "    #title_str = re.sub(pattern=pattern, repl=' ', string=title_str)\n",
    "    \n",
    "    ## 3.\n",
    "    art_dic[\"title\"] = title_str\n",
    "    art_dic[\"date\"] = date_str\n",
    "    art_dic[\"main\"] = main_str\n",
    "    art_dic['target'] = {104:0, 101:1, 102:2, 103:3, 105:4, 107:5, 100:6}[sid]\n",
    "    \n",
    "    \n",
    "    return art_dic"
   ]
  },
  {
   "cell_type": "code",
   "execution_count": 34,
   "metadata": {},
   "outputs": [
    {
     "data": {
      "application/vnd.jupyter.widget-view+json": {
       "model_id": "32de059ae5cf432fae3e1fe592c74e79",
       "version_major": 2,
       "version_minor": 0
      },
      "text/plain": [
       "  0%|          | 0/7 [00:00<?, ?it/s]"
      ]
     },
     "metadata": {},
     "output_type": "display_data"
    },
    {
     "data": {
      "application/vnd.jupyter.widget-view+json": {
       "model_id": "fa003d8f45164fe49f52cbe8a8b9a7ed",
       "version_major": 2,
       "version_minor": 0
      },
      "text/plain": [
       "  0%|          | 0/358 [00:00<?, ?it/s]"
      ]
     },
     "metadata": {},
     "output_type": "display_data"
    },
    {
     "data": {
      "application/vnd.jupyter.widget-view+json": {
       "model_id": "b8e46aa61a9f45159a7d253e78ed3a9d",
       "version_major": 2,
       "version_minor": 0
      },
      "text/plain": [
       "  0%|          | 0/579 [00:00<?, ?it/s]"
      ]
     },
     "metadata": {},
     "output_type": "display_data"
    },
    {
     "data": {
      "application/vnd.jupyter.widget-view+json": {
       "model_id": "5596d8dbd2ae48bb8744bb1c299f680b",
       "version_major": 2,
       "version_minor": 0
      },
      "text/plain": [
       "  0%|          | 0/629 [00:00<?, ?it/s]"
      ]
     },
     "metadata": {},
     "output_type": "display_data"
    },
    {
     "data": {
      "application/vnd.jupyter.widget-view+json": {
       "model_id": "89cb3d68e7424530bb93a44534d53ef1",
       "version_major": 2,
       "version_minor": 0
      },
      "text/plain": [
       "  0%|          | 0/58 [00:00<?, ?it/s]"
      ]
     },
     "metadata": {},
     "output_type": "display_data"
    },
    {
     "data": {
      "application/vnd.jupyter.widget-view+json": {
       "model_id": "029dbf107d2d4c3789dc9b30f6c14788",
       "version_major": 2,
       "version_minor": 0
      },
      "text/plain": [
       "  0%|          | 0/156 [00:00<?, ?it/s]"
      ]
     },
     "metadata": {},
     "output_type": "display_data"
    },
    {
     "data": {
      "application/vnd.jupyter.widget-view+json": {
       "model_id": "de818c7824fc4a1ab0fe3f1698c44321",
       "version_major": 2,
       "version_minor": 0
      },
      "text/plain": [
       "0it [00:00, ?it/s]"
      ]
     },
     "metadata": {},
     "output_type": "display_data"
    },
    {
     "data": {
      "application/vnd.jupyter.widget-view+json": {
       "model_id": "0b1dd15ae90f4f4c9967d1e9effc18f4",
       "version_major": 2,
       "version_minor": 0
      },
      "text/plain": [
       "  0%|          | 0/617 [00:00<?, ?it/s]"
      ]
     },
     "metadata": {},
     "output_type": "display_data"
    }
   ],
   "source": [
    "# 모든 섹션의 데이터 수집 (제목, 날짜, 본문, section, url)\n",
    "section_lst = [s for s in [104, 101, 102, 103, 105, 107, 100]]\n",
    "artdic_lst = []\n",
    "\n",
    "for section in tqdm(section_lst):\n",
    "    for i in tqdm(range(len(all_hrefs[section]))):\n",
    "        art_dic = art_crawl(all_hrefs, section, i)\n",
    "        art_dic[\"section\"] = section\n",
    "        art_dic[\"url\"] = all_hrefs[section][i]\n",
    "        artdic_lst.append(art_dic)"
   ]
  },
  {
   "cell_type": "code",
   "execution_count": 35,
   "metadata": {},
   "outputs": [],
   "source": [
    "art_df = pd.DataFrame(artdic_lst)\n",
    "art_df.to_csv(\"article_df.csv\")"
   ]
  },
  {
   "cell_type": "code",
   "execution_count": 36,
   "metadata": {},
   "outputs": [],
   "source": [
    "art_df['ID'] = [f'naver_{(x)}' for x in art_df.index]\n",
    "art_df = art_df.rename(columns={'title':'text'})\n",
    "\n",
    "data_raw = pd.read_csv('data/train.csv')\n",
    "data_augmentation = pd.concat([data_raw,art_df[['ID','text','target','url','date']]]).reset_index(drop=True)\n",
    "data_augmentation.to_csv('data/train_augmentation.csv')"
   ]
  },
  {
   "cell_type": "code",
   "execution_count": 37,
   "metadata": {},
   "outputs": [
    {
     "data": {
      "text/html": [
       "<div>\n",
       "<style scoped>\n",
       "    .dataframe tbody tr th:only-of-type {\n",
       "        vertical-align: middle;\n",
       "    }\n",
       "\n",
       "    .dataframe tbody tr th {\n",
       "        vertical-align: top;\n",
       "    }\n",
       "\n",
       "    .dataframe thead th {\n",
       "        text-align: right;\n",
       "    }\n",
       "</style>\n",
       "<table border=\"1\" class=\"dataframe\">\n",
       "  <thead>\n",
       "    <tr style=\"text-align: right;\">\n",
       "      <th></th>\n",
       "      <th>text</th>\n",
       "      <th>date</th>\n",
       "      <th>main</th>\n",
       "      <th>target</th>\n",
       "      <th>section</th>\n",
       "      <th>url</th>\n",
       "      <th>ID</th>\n",
       "    </tr>\n",
       "  </thead>\n",
       "  <tbody>\n",
       "    <tr>\n",
       "      <th>0</th>\n",
       "      <td>유조선 공격에 미군 사망까지…중동 긴장 고조에 유가 '출렁'</td>\n",
       "      <td>2024.01.29. 오후 4:37</td>\n",
       "      <td>국제 유가 오전 한때 1.5%가량 뛰었다 상승폭 축소\\n\\n\\n\\n요르단내 미군 주...</td>\n",
       "      <td>0</td>\n",
       "      <td>104</td>\n",
       "      <td>https://n.news.naver.com/mnews/article/001/001...</td>\n",
       "      <td>naver_0</td>\n",
       "    </tr>\n",
       "    <tr>\n",
       "      <th>1</th>\n",
       "      <td>외교장관 임명 19일 지나도 통화없는 한중…중국 \"소통 유지 용의\"</td>\n",
       "      <td>2024.01.29. 오후 5:58</td>\n",
       "      <td>▲ 23일 가미카와 요코 일본 외무상과 첫 통화하는 조태열 외교부 장관중국 외교부가...</td>\n",
       "      <td>0</td>\n",
       "      <td>104</td>\n",
       "      <td>https://n.news.naver.com/mnews/article/055/000...</td>\n",
       "      <td>naver_1</td>\n",
       "    </tr>\n",
       "    <tr>\n",
       "      <th>2</th>\n",
       "      <td>\"파리 봉쇄\" 농민들 위협에 佛내무부, 파리주변 보안군 대거 배치</td>\n",
       "      <td>2024.01.29. 오후 5:47</td>\n",
       "      <td>농민 트랙터들, 파리 집결 시작…파리 공항 등 봉쇄 위협내무장관, 파리로 향하는 8...</td>\n",
       "      <td>0</td>\n",
       "      <td>104</td>\n",
       "      <td>https://n.news.naver.com/mnews/article/003/001...</td>\n",
       "      <td>naver_2</td>\n",
       "    </tr>\n",
       "    <tr>\n",
       "      <th>3</th>\n",
       "      <td>\"대만을 국가로 언급해서\"…中, 한국 LoL 중계 6년만 중단</td>\n",
       "      <td>2024.01.29. 오전 10:12</td>\n",
       "      <td>홍콩매체 \"한국팀 젠지, 대만을 국가로 언급한 사건과 관련\"\\n\\n\\n\\n2024 ...</td>\n",
       "      <td>0</td>\n",
       "      <td>104</td>\n",
       "      <td>https://n.news.naver.com/mnews/article/001/001...</td>\n",
       "      <td>naver_3</td>\n",
       "    </tr>\n",
       "    <tr>\n",
       "      <th>4</th>\n",
       "      <td>백악관 에너지안보 고문 \"후티 공격 인플레 영향 제한적\"</td>\n",
       "      <td>2024.01.29. 오전 10:33</td>\n",
       "      <td>예멘 남쪽 아덴항과 아덴만 해상 [구글지도 캡처. 재판매 및 DB 금지]    (서...</td>\n",
       "      <td>0</td>\n",
       "      <td>104</td>\n",
       "      <td>https://n.news.naver.com/mnews/article/001/001...</td>\n",
       "      <td>naver_4</td>\n",
       "    </tr>\n",
       "    <tr>\n",
       "      <th>...</th>\n",
       "      <td>...</td>\n",
       "      <td>...</td>\n",
       "      <td>...</td>\n",
       "      <td>...</td>\n",
       "      <td>...</td>\n",
       "      <td>...</td>\n",
       "      <td>...</td>\n",
       "    </tr>\n",
       "    <tr>\n",
       "      <th>2392</th>\n",
       "      <td>이준석 \"여성도 軍복무해야 경찰관·소방관 지원 가능하게\"(종합)</td>\n",
       "      <td>2024.01.29. 오전 10:46</td>\n",
       "      <td>'여성희망 복무제' 2030년 도입 공약…\"간부·부사관 아닌 일반병사 근무\"군자녀 ...</td>\n",
       "      <td>6</td>\n",
       "      <td>100</td>\n",
       "      <td>https://n.news.naver.com/mnews/article/001/001...</td>\n",
       "      <td>naver_2392</td>\n",
       "    </tr>\n",
       "    <tr>\n",
       "      <th>2393</th>\n",
       "      <td>민주당, 경찰대 출신 '미니스커트 여경'·초등교사노조 간부 영입</td>\n",
       "      <td>2024.01.29. 오후 12:40</td>\n",
       "      <td>이지은 전 총경, 백승아 전 교사 각각 11, 12호 인재로 영입\\n\\n\\n\\n더불...</td>\n",
       "      <td>6</td>\n",
       "      <td>100</td>\n",
       "      <td>https://n.news.naver.com/mnews/article/088/000...</td>\n",
       "      <td>naver_2393</td>\n",
       "    </tr>\n",
       "    <tr>\n",
       "      <th>2394</th>\n",
       "      <td>이준석표 국방정책… “여성도 軍복무해야 경찰·소방 지원가능”</td>\n",
       "      <td>2024.01.29. 오전 11:17</td>\n",
       "      <td>‘女 신규공무원 병역 의무화’ 이르면 2030년 도입“시민 절반만 국방의무 부담, ...</td>\n",
       "      <td>6</td>\n",
       "      <td>100</td>\n",
       "      <td>https://n.news.naver.com/mnews/article/366/000...</td>\n",
       "      <td>naver_2394</td>\n",
       "    </tr>\n",
       "    <tr>\n",
       "      <th>2395</th>\n",
       "      <td>당대표 이준석-원내대표 양향자...개혁신당 신설합당</td>\n",
       "      <td>2024.01.29. 오전 10:40</td>\n",
       "      <td>슬로건은 '한국의희망'여성 공무원 군복무 의무화 공약 발표 \\n\\n\\n\\n이준석 개...</td>\n",
       "      <td>6</td>\n",
       "      <td>100</td>\n",
       "      <td>https://n.news.naver.com/mnews/article/014/000...</td>\n",
       "      <td>naver_2395</td>\n",
       "    </tr>\n",
       "    <tr>\n",
       "      <th>2396</th>\n",
       "      <td>북, 잠수함서 미사일 발사 주장에 군 \"분석 필요…비행 시간 과장한 듯\"</td>\n",
       "      <td>2024.01.29. 오후 2:00</td>\n",
       "      <td>김정은, 핵잠수함 건조 시작하나…북한 매체 \"집행방도에 대한 중요한 결론 주셨다\"북...</td>\n",
       "      <td>6</td>\n",
       "      <td>100</td>\n",
       "      <td>https://n.news.naver.com/mnews/article/002/000...</td>\n",
       "      <td>naver_2396</td>\n",
       "    </tr>\n",
       "  </tbody>\n",
       "</table>\n",
       "<p>2397 rows × 7 columns</p>\n",
       "</div>"
      ],
      "text/plain": [
       "                                          text                  date   \n",
       "0            유조선 공격에 미군 사망까지…중동 긴장 고조에 유가 '출렁'   2024.01.29. 오후 4:37  \\\n",
       "1        외교장관 임명 19일 지나도 통화없는 한중…중국 \"소통 유지 용의\"   2024.01.29. 오후 5:58   \n",
       "2         \"파리 봉쇄\" 농민들 위협에 佛내무부, 파리주변 보안군 대거 배치   2024.01.29. 오후 5:47   \n",
       "3           \"대만을 국가로 언급해서\"…中, 한국 LoL 중계 6년만 중단  2024.01.29. 오전 10:12   \n",
       "4              백악관 에너지안보 고문 \"후티 공격 인플레 영향 제한적\"  2024.01.29. 오전 10:33   \n",
       "...                                        ...                   ...   \n",
       "2392       이준석 \"여성도 軍복무해야 경찰관·소방관 지원 가능하게\"(종합)  2024.01.29. 오전 10:46   \n",
       "2393       민주당, 경찰대 출신 '미니스커트 여경'·초등교사노조 간부 영입  2024.01.29. 오후 12:40   \n",
       "2394         이준석표 국방정책… “여성도 軍복무해야 경찰·소방 지원가능”  2024.01.29. 오전 11:17   \n",
       "2395              당대표 이준석-원내대표 양향자...개혁신당 신설합당  2024.01.29. 오전 10:40   \n",
       "2396  북, 잠수함서 미사일 발사 주장에 군 \"분석 필요…비행 시간 과장한 듯\"   2024.01.29. 오후 2:00   \n",
       "\n",
       "                                                   main  target  section   \n",
       "0     국제 유가 오전 한때 1.5%가량 뛰었다 상승폭 축소\\n\\n\\n\\n요르단내 미군 주...       0      104  \\\n",
       "1     ▲ 23일 가미카와 요코 일본 외무상과 첫 통화하는 조태열 외교부 장관중국 외교부가...       0      104   \n",
       "2     농민 트랙터들, 파리 집결 시작…파리 공항 등 봉쇄 위협내무장관, 파리로 향하는 8...       0      104   \n",
       "3     홍콩매체 \"한국팀 젠지, 대만을 국가로 언급한 사건과 관련\"\\n\\n\\n\\n2024 ...       0      104   \n",
       "4     예멘 남쪽 아덴항과 아덴만 해상 [구글지도 캡처. 재판매 및 DB 금지]    (서...       0      104   \n",
       "...                                                 ...     ...      ...   \n",
       "2392  '여성희망 복무제' 2030년 도입 공약…\"간부·부사관 아닌 일반병사 근무\"군자녀 ...       6      100   \n",
       "2393  이지은 전 총경, 백승아 전 교사 각각 11, 12호 인재로 영입\\n\\n\\n\\n더불...       6      100   \n",
       "2394  ‘女 신규공무원 병역 의무화’ 이르면 2030년 도입“시민 절반만 국방의무 부담, ...       6      100   \n",
       "2395  슬로건은 '한국의희망'여성 공무원 군복무 의무화 공약 발표 \\n\\n\\n\\n이준석 개...       6      100   \n",
       "2396  김정은, 핵잠수함 건조 시작하나…북한 매체 \"집행방도에 대한 중요한 결론 주셨다\"북...       6      100   \n",
       "\n",
       "                                                    url          ID  \n",
       "0     https://n.news.naver.com/mnews/article/001/001...     naver_0  \n",
       "1     https://n.news.naver.com/mnews/article/055/000...     naver_1  \n",
       "2     https://n.news.naver.com/mnews/article/003/001...     naver_2  \n",
       "3     https://n.news.naver.com/mnews/article/001/001...     naver_3  \n",
       "4     https://n.news.naver.com/mnews/article/001/001...     naver_4  \n",
       "...                                                 ...         ...  \n",
       "2392  https://n.news.naver.com/mnews/article/001/001...  naver_2392  \n",
       "2393  https://n.news.naver.com/mnews/article/088/000...  naver_2393  \n",
       "2394  https://n.news.naver.com/mnews/article/366/000...  naver_2394  \n",
       "2395  https://n.news.naver.com/mnews/article/014/000...  naver_2395  \n",
       "2396  https://n.news.naver.com/mnews/article/002/000...  naver_2396  \n",
       "\n",
       "[2397 rows x 7 columns]"
      ]
     },
     "execution_count": 37,
     "metadata": {},
     "output_type": "execute_result"
    }
   ],
   "source": [
    "art_df"
   ]
  },
  {
   "cell_type": "code",
   "execution_count": 13,
   "metadata": {},
   "outputs": [],
   "source": [
    "import pandas as pd\n",
    "df__ = pd.read_csv('../article_df.csv')"
   ]
  },
  {
   "cell_type": "code",
   "execution_count": 15,
   "metadata": {},
   "outputs": [
    {
     "data": {
      "text/plain": [
       "target\n",
       "2    629\n",
       "6    617\n",
       "1    579\n",
       "0    358\n",
       "4    156\n",
       "3     58\n",
       "Name: count, dtype: int64"
      ]
     },
     "execution_count": 15,
     "metadata": {},
     "output_type": "execute_result"
    }
   ],
   "source": [
    "df__.value_counts('target')"
   ]
  }
 ],
 "metadata": {
  "kernelspec": {
   "display_name": "base",
   "language": "python",
   "name": "python3"
  },
  "language_info": {
   "codemirror_mode": {
    "name": "ipython",
    "version": 3
   },
   "file_extension": ".py",
   "mimetype": "text/x-python",
   "name": "python",
   "nbconvert_exporter": "python",
   "pygments_lexer": "ipython3",
   "version": "3.8.5"
  }
 },
 "nbformat": 4,
 "nbformat_minor": 2
}
